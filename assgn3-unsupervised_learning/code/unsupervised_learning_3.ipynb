{
 "cells": [
  {
   "cell_type": "code",
   "execution_count": 57,
   "metadata": {},
   "outputs": [
    {
     "name": "stdout",
     "output_type": "stream",
     "text": [
      "The autoreload extension is already loaded. To reload it, use:\n",
      "  %reload_ext autoreload\n"
     ]
    }
   ],
   "source": [
    "from load_data import load_breast_cancer_data, load_wine_quality_data\n",
    "\n",
    "import numpy as np\n",
    "import matplotlib.pyplot as plt\n",
    "import pandas as pd\n",
    "from sklearn import preprocessing\n",
    "from sklearn.model_selection import train_test_split\n",
    "from sklearn.cluster import KMeans\n",
    "from sklearn.metrics import silhouette_score, adjusted_mutual_info_score\n",
    "from sklearn.mixture import GaussianMixture\n",
    "from sklearn.decomposition import PCA\n",
    "from sklearn.neural_network import MLPClassifier\n",
    "from sklearn.metrics import accuracy_score\n",
    "from sklearn.model_selection import GridSearchCV\n",
    "\n",
    "import time\n",
    "\n",
    "%load_ext autoreload\n",
    "%autoreload 2"
   ]
  },
  {
   "cell_type": "markdown",
   "metadata": {},
   "source": [
    "# Data loading and preprocessing"
   ]
  },
  {
   "cell_type": "code",
   "execution_count": 58,
   "metadata": {},
   "outputs": [
    {
     "name": "stdout",
     "output_type": "stream",
     "text": [
      "<------------------------ Breast Cancer Dataset ------------------------>\n",
      "Total number of examples:  569\n",
      "Fraction of positive examples: 37.26%\n",
      "Number of features:  30\n",
      "\n"
     ]
    }
   ],
   "source": [
    "# Read data\n",
    "X1, y1 = load_breast_cancer_data('../data/breast-cancer-wisconsin-data/data.csv')\n",
    "# X2, y2 = load_wine_quality_data('../data/wine-quality/winequality-white.csv')\n",
    "\n",
    "# Print information about the datasets\n",
    "print (\"<------------------------ Breast Cancer Dataset ------------------------>\")\n",
    "print (\"Total number of examples: \", X1.shape[0])\n",
    "print (\"Fraction of positive examples: %.2f%%\" % (y1[y1 == 1].shape[0]/y1.shape[0]*100.0))\n",
    "print (\"Number of features: \", X1.shape[1])\n",
    "print()\n",
    "# print (\"<------------------------ Wine Quality Dataset ------------------------>\")\n",
    "# print (\"Total number of examples: \", X2.shape[0])\n",
    "# print (\"Fraction of positive examples: %.2f%%\" % (y2[y2 == 1].shape[0]/y2.shape[0]*100.0))\n",
    "# print (\"Number of features: \", X2.shape[1])\n",
    "# print()\n",
    "\n",
    "# Random seed for reproducibility of experiments\n",
    "random_seed = 7641\n",
    "np.random.seed(random_seed)\n",
    "\n",
    "# Standardize data\n",
    "X1 = preprocessing.scale(X1)\n",
    "# X2 = preprocessing.scale(X2)\n",
    "\n",
    "# Split into training and test data. Use random_state to get the same results in every run\n",
    "X_train, X_test, y_train, y_test = train_test_split(X1, y1, test_size=0.4, random_state=18)\n",
    "# X_train, X_test, y_train, y_test = train_test_split(X2, y2, test_size=0.4, random_state=18)"
   ]
  },
  {
   "cell_type": "markdown",
   "metadata": {},
   "source": [
    "# Training a neural network without dimensionality reduction"
   ]
  },
  {
   "cell_type": "code",
   "execution_count": 80,
   "metadata": {},
   "outputs": [
    {
     "name": "stdout",
     "output_type": "stream",
     "text": [
      "Accuracy of neural network without hyperparameter tuning is 96.49%\n"
     ]
    }
   ],
   "source": [
    "clf_nn = MLPClassifier(hidden_layer_sizes=(5, 2), random_state=7, max_iter=1000)\n",
    "clf_nn.fit(X_train, y_train)\n",
    "y_pred = clf_nn.predict(X_test)\n",
    "nn_accuracy = accuracy_score(y_test, y_pred)\n",
    "print('Accuracy of neural network without hyperparameter tuning is %.2f%%' % (nn_accuracy * 100))"
   ]
  },
  {
   "cell_type": "markdown",
   "metadata": {},
   "source": [
    "## Hyperparameter tuning"
   ]
  },
  {
   "cell_type": "code",
   "execution_count": 81,
   "metadata": {},
   "outputs": [
    {
     "name": "stdout",
     "output_type": "stream",
     "text": [
      "Best parameters set found on development set:\n",
      "{'alpha': 0.5623413251903491, 'learning_rate_init': 0.01}\n"
     ]
    }
   ],
   "source": [
    "# Define grid for grid search after observing validation curves\n",
    "alpha_range = np.logspace(-1, 2, 5)\n",
    "lr_range = np.logspace(-5, 0, 6)\n",
    "tuned_params = {'alpha' : alpha_range, 'learning_rate_init' : lr_range}\n",
    "clf_nn = GridSearchCV(clf_nn, param_grid=tuned_params, cv=5, n_jobs=-1)\n",
    "clf_nn.fit(X_train_pca, y_train)\n",
    "best_clf_nn = clf_nn.best_estimator_\n",
    "best_params = clf_nn.best_params_\n",
    "print(\"Best parameters set found on development set:\")\n",
    "print(best_params)"
   ]
  },
  {
   "cell_type": "markdown",
   "metadata": {},
   "source": [
    "## Evaluate optimal model"
   ]
  },
  {
   "cell_type": "code",
   "execution_count": 82,
   "metadata": {},
   "outputs": [
    {
     "name": "stdout",
     "output_type": "stream",
     "text": [
      "Training time: 0.154904 seconds\n",
      "Inference time on test data: 0.000999 seconds\n",
      "Best accuracy of neural network is 97.81%\n"
     ]
    }
   ],
   "source": [
    "t0 = time.time()\n",
    "best_clf_nn.fit(X_train, y_train)\n",
    "t1 = time.time()\n",
    "print('Training time: %f seconds' % (t1 - t0))\n",
    "t0 = time.time()\n",
    "y_pred = best_clf_nn.predict(X_test)\n",
    "t1 = time.time()\n",
    "test_time = t1 - t0\n",
    "print('Inference time on test data: %f seconds' % test_time)\n",
    "best_accuracy = accuracy_score(y_test, y_pred)\n",
    "print('Best accuracy of neural network is %.2f%%' % (best_accuracy * 100))"
   ]
  },
  {
   "cell_type": "markdown",
   "metadata": {},
   "source": [
    "# PCA"
   ]
  },
  {
   "cell_type": "code",
   "execution_count": 62,
   "metadata": {},
   "outputs": [
    {
     "data": {
      "text/plain": [
       "PCA(copy=True, iterated_power='auto', n_components=None, random_state=None,\n",
       "  svd_solver='auto', tol=0.0, whiten=False)"
      ]
     },
     "execution_count": 62,
     "metadata": {},
     "output_type": "execute_result"
    }
   ],
   "source": [
    "pca = PCA()\n",
    "pca.fit(X_train)"
   ]
  },
  {
   "cell_type": "code",
   "execution_count": 63,
   "metadata": {},
   "outputs": [
    {
     "data": {
      "image/png": "[encoded data removed]",
      "text/plain": [
       "<Figure size 432x288 with 1 Axes>"
      ]
     },
     "metadata": {},
     "output_type": "display_data"
    },
    {
     "data": {
      "image/png": "[encoded data removed]",
      "text/plain": [
       "<Figure size 432x288 with 1 Axes>"
      ]
     },
     "metadata": {},
     "output_type": "display_data"
    }
   ],
   "source": [
    "# Plot variance explained by each component to find the best number of components\n",
    "plt.figure()\n",
    "plt.plot(np.arange(1, pca.explained_variance_ratio_.size + 1), pca.explained_variance_ratio_)\n",
    "plt.xticks(np.arange(1, pca.explained_variance_ratio_.size + 1))\n",
    "plt.xlabel('Component')\n",
    "plt.ylabel('Variance')\n",
    "plt.title('Dataset 2')\n",
    "plt.grid()\n",
    "plt.savefig('../plots/nn_pca_var_2.png')\n",
    "\n",
    "plt.figure()\n",
    "plt.plot(np.arange(1, pca.explained_variance_ratio_.size + 1), np.cumsum(pca.explained_variance_ratio_))\n",
    "plt.xticks(np.arange(1, pca.explained_variance_ratio_.size + 1))\n",
    "plt.xlabel('Component')\n",
    "plt.ylabel('Variance (cumulative)')\n",
    "plt.title('Dataset 2')\n",
    "plt.grid()\n",
    "plt.savefig('../plots/nn_pca_var_cum_2.png')"
   ]
  },
  {
   "cell_type": "code",
   "execution_count": 64,
   "metadata": {},
   "outputs": [],
   "source": [
    "# Choose the number of components that capture 85% of the variance\n",
    "num_components = 6\n",
    "\n",
    "# Transform the data\n",
    "pca = PCA(n_components=num_components)\n",
    "pca.fit(X_train)\n",
    "X_train_pca = pca.transform(X_train)\n",
    "X_test_pca = pca.transform(X_test)"
   ]
  },
  {
   "cell_type": "markdown",
   "metadata": {},
   "source": [
    "# Neural network classification on projected data"
   ]
  },
  {
   "cell_type": "code",
   "execution_count": 65,
   "metadata": {},
   "outputs": [
    {
     "name": "stdout",
     "output_type": "stream",
     "text": [
      "Accuracy of neural network without hyperparameter tuning is 97.37%\n"
     ]
    }
   ],
   "source": [
    "clf_nn = MLPClassifier(hidden_layer_sizes=(5, 2), random_state=7, max_iter=1000)\n",
    "clf_nn.fit(X_train_pca, y_train)\n",
    "y_pred = clf_nn.predict(X_test_pca)\n",
    "nn_accuracy = accuracy_score(y_test, y_pred)\n",
    "print('Accuracy of neural network without hyperparameter tuning is %.2f%%' % (nn_accuracy * 100))"
   ]
  },
  {
   "cell_type": "markdown",
   "metadata": {},
   "source": [
    "## Hyperparameter tuning"
   ]
  },
  {
   "cell_type": "code",
   "execution_count": 66,
   "metadata": {},
   "outputs": [
    {
     "name": "stdout",
     "output_type": "stream",
     "text": [
      "Best parameters set found on development set:\n",
      "{'alpha': 0.5623413251903491, 'learning_rate_init': 0.01}\n"
     ]
    }
   ],
   "source": [
    "# Define grid for grid search after observing validation curves\n",
    "alpha_range = np.logspace(-1, 2, 5)\n",
    "lr_range = np.logspace(-5, 0, 6)\n",
    "tuned_params = {'alpha' : alpha_range, 'learning_rate_init' : lr_range}\n",
    "clf_nn = GridSearchCV(clf_nn, param_grid=tuned_params, cv=5, n_jobs=-1)\n",
    "clf_nn.fit(X_train_pca, y_train)\n",
    "best_clf_nn = clf_nn.best_estimator_\n",
    "best_params = clf_nn.best_params_\n",
    "print(\"Best parameters set found on development set:\")\n",
    "print(best_params)"
   ]
  },
  {
   "cell_type": "markdown",
   "metadata": {},
   "source": [
    "## Evaluate optimal model"
   ]
  },
  {
   "cell_type": "code",
   "execution_count": 67,
   "metadata": {},
   "outputs": [
    {
     "name": "stdout",
     "output_type": "stream",
     "text": [
      "Training time: 0.322799 seconds\n",
      "Inference time on test data: 0.000000 seconds\n",
      "Best accuracy of neural network is 97.81%\n"
     ]
    }
   ],
   "source": [
    "t0 = time.time()\n",
    "best_clf_nn.fit(X_train_pca, y_train)\n",
    "t1 = time.time()\n",
    "print('Training time: %f seconds' % (t1 - t0))\n",
    "t0 = time.time()\n",
    "y_pred = best_clf_nn.predict(X_test_pca)\n",
    "t1 = time.time()\n",
    "test_time = t1 - t0\n",
    "print('Inference time on test data: %f seconds' % test_time)\n",
    "best_accuracy = accuracy_score(y_test, y_pred)\n",
    "print('Best accuracy of neural network is %.2f%%' % (best_accuracy * 100))"
   ]
  },
  {
   "cell_type": "markdown",
   "metadata": {},
   "source": [
    "# K-means"
   ]
  },
  {
   "cell_type": "code",
   "execution_count": 68,
   "metadata": {},
   "outputs": [],
   "source": [
    "kmeans = KMeans(n_clusters=num_components, random_state=random_seed, n_jobs=-1)\n",
    "kmeans.fit(X_train)\n",
    "X_train_kmeans = kmeans.transform(X_train)\n",
    "X_test_kmeans = kmeans.transform(X_test)"
   ]
  },
  {
   "cell_type": "markdown",
   "metadata": {},
   "source": [
    "# Neural network classification on projected data"
   ]
  },
  {
   "cell_type": "code",
   "execution_count": 69,
   "metadata": {},
   "outputs": [
    {
     "name": "stdout",
     "output_type": "stream",
     "text": [
      "Accuracy of neural network without hyperparameter tuning is 95.61%\n"
     ]
    }
   ],
   "source": [
    "clf_nn = MLPClassifier(hidden_layer_sizes=(5, 2), random_state=7, max_iter=1000)\n",
    "clf_nn.fit(X_train_kmeans, y_train)\n",
    "y_pred = clf_nn.predict(X_test_kmeans)\n",
    "nn_accuracy = accuracy_score(y_test, y_pred)\n",
    "print('Accuracy of neural network without hyperparameter tuning is %.2f%%' % (nn_accuracy * 100))"
   ]
  },
  {
   "cell_type": "markdown",
   "metadata": {},
   "source": [
    "## Hyperparameter tuning"
   ]
  },
  {
   "cell_type": "code",
   "execution_count": 70,
   "metadata": {},
   "outputs": [
    {
     "name": "stdout",
     "output_type": "stream",
     "text": [
      "Best parameters set found on development set:\n",
      "{'alpha': 0.5623413251903491, 'learning_rate_init': 0.001}\n"
     ]
    }
   ],
   "source": [
    "# Define grid for grid search after observing validation curves\n",
    "alpha_range = np.logspace(-1, 2, 5)\n",
    "lr_range = np.logspace(-5, 0, 6)\n",
    "tuned_params = {'alpha' : alpha_range, 'learning_rate_init' : lr_range}\n",
    "clf_nn = GridSearchCV(clf_nn, param_grid=tuned_params, cv=5, n_jobs=-1)\n",
    "clf_nn.fit(X_train_kmeans, y_train)\n",
    "best_clf_nn = clf_nn.best_estimator_\n",
    "best_params = clf_nn.best_params_\n",
    "print(\"Best parameters set found on development set:\")\n",
    "print(best_params)"
   ]
  },
  {
   "cell_type": "markdown",
   "metadata": {},
   "source": [
    "## Evaluate optimal model"
   ]
  },
  {
   "cell_type": "code",
   "execution_count": 71,
   "metadata": {},
   "outputs": [
    {
     "name": "stdout",
     "output_type": "stream",
     "text": [
      "Training time: 0.389758 seconds\n",
      "Inference time on test data: 0.000000 seconds\n",
      "Best accuracy of neural network is 96.05%\n"
     ]
    }
   ],
   "source": [
    "t0 = time.time()\n",
    "best_clf_nn.fit(X_train_kmeans, y_train)\n",
    "t1 = time.time()\n",
    "print('Training time: %f seconds' % (t1 - t0))\n",
    "t0 = time.time()\n",
    "y_pred = best_clf_nn.predict(X_test_kmeans)\n",
    "t1 = time.time()\n",
    "test_time = t1 - t0\n",
    "print('Inference time on test data: %f seconds' % test_time)\n",
    "best_accuracy = accuracy_score(y_test, y_pred)\n",
    "print('Best accuracy of neural network is %.2f%%' % (best_accuracy * 100))"
   ]
  },
  {
   "cell_type": "markdown",
   "metadata": {},
   "source": [
    "# GMM-EM"
   ]
  },
  {
   "cell_type": "code",
   "execution_count": 83,
   "metadata": {},
   "outputs": [],
   "source": [
    "gmm = GaussianMixture(n_components=num_components, random_state=random_seed)\n",
    "gmm.fit(X_train)\n",
    "X_train_gmm = gmm.predict_proba(X_train)\n",
    "X_test_gmm = gmm.predict_proba(X_test)"
   ]
  },
  {
   "cell_type": "markdown",
   "metadata": {},
   "source": [
    "# Neural network classification on projected data"
   ]
  },
  {
   "cell_type": "code",
   "execution_count": 94,
   "metadata": {},
   "outputs": [
    {
     "name": "stdout",
     "output_type": "stream",
     "text": [
      "Accuracy of neural network without hyperparameter tuning is 89.91%\n"
     ]
    }
   ],
   "source": [
    "clf_nn = MLPClassifier(hidden_layer_sizes=(5, 2), random_state=7, max_iter=1000)\n",
    "clf_nn.fit(X_train_gmm, y_train)\n",
    "y_pred = clf_nn.predict(X_test_gmm)\n",
    "nn_accuracy = accuracy_score(y_test, y_pred)\n",
    "print('Accuracy of neural network without hyperparameter tuning is %.2f%%' % (nn_accuracy * 100))"
   ]
  },
  {
   "cell_type": "markdown",
   "metadata": {},
   "source": [
    "## Hyperparameter tuning"
   ]
  },
  {
   "cell_type": "code",
   "execution_count": 95,
   "metadata": {},
   "outputs": [
    {
     "name": "stdout",
     "output_type": "stream",
     "text": [
      "Best parameters set found on development set:\n",
      "{'alpha': 0, 'learning_rate_init': 0.0001}\n"
     ]
    },
    {
     "name": "stderr",
     "output_type": "stream",
     "text": [
      "C:\\Anaconda3\\lib\\site-packages\\sklearn\\neural_network\\multilayer_perceptron.py:564: ConvergenceWarning: Stochastic Optimizer: Maximum iterations (1000) reached and the optimization hasn't converged yet.\n",
      "  % self.max_iter, ConvergenceWarning)\n"
     ]
    }
   ],
   "source": [
    "# Define grid for grid search after observing validation curves\n",
    "# alpha_range = np.logspace(-10, -5, 5)\n",
    "alpha_range = np.asarray([0])\n",
    "lr_range = np.logspace(-5, 0, 6)\n",
    "tuned_params = {'alpha' : alpha_range, 'learning_rate_init' : lr_range}\n",
    "clf_nn = GridSearchCV(clf_nn, param_grid=tuned_params, cv=5, n_jobs=-1)\n",
    "clf_nn.fit(X_train_gmm, y_train)\n",
    "best_clf_nn = clf_nn.best_estimator_\n",
    "best_params = clf_nn.best_params_\n",
    "print(\"Best parameters set found on development set:\")\n",
    "print(best_params)"
   ]
  },
  {
   "cell_type": "markdown",
   "metadata": {},
   "source": [
    "## Evaluate optimal model"
   ]
  },
  {
   "cell_type": "code",
   "execution_count": 96,
   "metadata": {},
   "outputs": [
    {
     "name": "stdout",
     "output_type": "stream",
     "text": [
      "Training time: 1.241231 seconds\n",
      "Inference time on test data: 0.000000 seconds\n",
      "Best accuracy of neural network is 90.35%\n"
     ]
    },
    {
     "name": "stderr",
     "output_type": "stream",
     "text": [
      "C:\\Anaconda3\\lib\\site-packages\\sklearn\\neural_network\\multilayer_perceptron.py:564: ConvergenceWarning: Stochastic Optimizer: Maximum iterations (1000) reached and the optimization hasn't converged yet.\n",
      "  % self.max_iter, ConvergenceWarning)\n"
     ]
    }
   ],
   "source": [
    "t0 = time.time()\n",
    "best_clf_nn.fit(X_train_gmm, y_train)\n",
    "t1 = time.time()\n",
    "print('Training time: %f seconds' % (t1 - t0))\n",
    "t0 = time.time()\n",
    "y_pred = best_clf_nn.predict(X_test_gmm)\n",
    "t1 = time.time()\n",
    "test_time = t1 - t0\n",
    "print('Inference time on test data: %f seconds' % test_time)\n",
    "best_accuracy = accuracy_score(y_test, y_pred)\n",
    "print('Best accuracy of neural network is %.2f%%' % (best_accuracy * 100))"
   ]
  },
  {
   "cell_type": "code",
   "execution_count": null,
   "metadata": {},
   "outputs": [],
   "source": []
  }
 ],
 "metadata": {
  "kernelspec": {
   "display_name": "Python 3",
   "language": "python",
   "name": "python3"
  },
  "language_info": {
   "codemirror_mode": {
    "name": "ipython",
    "version": 3
   },
   "file_extension": ".py",
   "mimetype": "text/x-python",
   "name": "python",
   "nbconvert_exporter": "python",
   "pygments_lexer": "ipython3",
   "version": "3.6.5"
  }
 },
 "nbformat": 4,
 "nbformat_minor": 2
}
